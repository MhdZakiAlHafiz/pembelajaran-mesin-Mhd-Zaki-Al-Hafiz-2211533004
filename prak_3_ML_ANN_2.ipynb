{
  "nbformat": 4,
  "nbformat_minor": 0,
  "metadata": {
    "colab": {
      "provenance": [],
      "authorship_tag": "ABX9TyNQH6Yl0a5pTpZdCS2alHfb",
      "include_colab_link": true
    },
    "kernelspec": {
      "name": "python3",
      "display_name": "Python 3"
    },
    "language_info": {
      "name": "python"
    }
  },
  "cells": [
    {
      "cell_type": "markdown",
      "metadata": {
        "id": "view-in-github",
        "colab_type": "text"
      },
      "source": [
        "<a href=\"https://colab.research.google.com/github/MhdZakiAlHafiz/pembelajaran-mesin-Mhd-Zaki-Al-Hafiz-2211533004/blob/main/prak_3_ML_ANN_2.ipynb\" target=\"_parent\"><img src=\"https://colab.research.google.com/assets/colab-badge.svg\" alt=\"Open In Colab\"/></a>"
      ]
    },
    {
      "cell_type": "code",
      "execution_count": 1,
      "metadata": {
        "id": "bvzS5fu0g9Hi"
      },
      "outputs": [],
      "source": [
        "import tensorflow as tf\n",
        "from tensorflow.keras.models import Sequential\n",
        "from tensorflow.keras.layers import Dense, Flatten\n",
        "from tensorflow.keras.datasets import mnist\n",
        "from tensorflow.keras.utils import to_categorical"
      ]
    },
    {
      "cell_type": "code",
      "source": [
        "# Load the MNIST dataset\n",
        "(x_train, y_train), (x_test, y_test) = mnist.load_data()"
      ],
      "metadata": {
        "colab": {
          "base_uri": "https://localhost:8080/"
        },
        "id": "cl3PVC90hC28",
        "outputId": "a3a53697-9423-4341-b178-9448df1614f2"
      },
      "execution_count": 2,
      "outputs": [
        {
          "output_type": "stream",
          "name": "stdout",
          "text": [
            "Downloading data from https://storage.googleapis.com/tensorflow/tf-keras-datasets/mnist.npz\n",
            "11490434/11490434 [==============================] - 0s 0us/step\n"
          ]
        }
      ]
    },
    {
      "cell_type": "code",
      "source": [
        "# Normalize the input data to the range [0, 1]\n",
        "x_train, x_test = x_train / 255.0, x_test / 255.0"
      ],
      "metadata": {
        "id": "MYxLSiyXhErZ"
      },
      "execution_count": 3,
      "outputs": []
    },
    {
      "cell_type": "code",
      "source": [
        "# Convert class vectors to binary class matrices (one-hot encoding)\n",
        "y_train = to_categorical(y_train, 10)\n",
        "y_test = to_categorical(y_test, 10)"
      ],
      "metadata": {
        "id": "8Lk4TbeShFJu"
      },
      "execution_count": 4,
      "outputs": []
    },
    {
      "cell_type": "code",
      "source": [
        "# Build the MLFFN model\n",
        "model = Sequential([\n",
        "    Flatten(input_shape=(28, 28)),  # Flatten the input images to 1D vectors\n",
        "    Dense(128, activation='relu'),  # First hidden layer with 128 neurons and ReLU activation\n",
        "    Dense(64, activation='relu'),   # Second hidden layer with 64 neurons and ReLU activation\n",
        "    Dense(10, activation='softmax') # Output layer with 10 neurons (one for each class) and softmax activation\n",
        "])"
      ],
      "metadata": {
        "id": "92oLFdMehHN0"
      },
      "execution_count": 5,
      "outputs": []
    },
    {
      "cell_type": "code",
      "source": [
        "# Compile the model\n",
        "model.compile(optimizer='adam',\n",
        "              loss='categorical_crossentropy',\n",
        "              metrics=['accuracy'])"
      ],
      "metadata": {
        "id": "Ugegipc3hJIm"
      },
      "execution_count": 6,
      "outputs": []
    },
    {
      "cell_type": "code",
      "source": [
        "# Train the model\n",
        "model.fit(x_train, y_train, epochs=10, batch_size=32, validation_split=0.2)"
      ],
      "metadata": {
        "colab": {
          "base_uri": "https://localhost:8080/"
        },
        "id": "ttnKSeashK5A",
        "outputId": "bfd3d34b-adf6-4544-d66e-4acfa537e378"
      },
      "execution_count": 7,
      "outputs": [
        {
          "output_type": "stream",
          "name": "stdout",
          "text": [
            "Epoch 1/10\n",
            "1500/1500 [==============================] - 13s 8ms/step - loss: 0.2731 - accuracy: 0.9206 - val_loss: 0.1500 - val_accuracy: 0.9550\n",
            "Epoch 2/10\n",
            "1500/1500 [==============================] - 6s 4ms/step - loss: 0.1137 - accuracy: 0.9659 - val_loss: 0.1130 - val_accuracy: 0.9665\n",
            "Epoch 3/10\n",
            "1500/1500 [==============================] - 9s 6ms/step - loss: 0.0777 - accuracy: 0.9753 - val_loss: 0.1121 - val_accuracy: 0.9679\n",
            "Epoch 4/10\n",
            "1500/1500 [==============================] - 12s 8ms/step - loss: 0.0576 - accuracy: 0.9820 - val_loss: 0.1074 - val_accuracy: 0.9692\n",
            "Epoch 5/10\n",
            "1500/1500 [==============================] - 11s 7ms/step - loss: 0.0450 - accuracy: 0.9856 - val_loss: 0.1008 - val_accuracy: 0.9725\n",
            "Epoch 6/10\n",
            "1500/1500 [==============================] - 11s 7ms/step - loss: 0.0368 - accuracy: 0.9878 - val_loss: 0.0931 - val_accuracy: 0.9742\n",
            "Epoch 7/10\n",
            "1500/1500 [==============================] - 7s 5ms/step - loss: 0.0281 - accuracy: 0.9910 - val_loss: 0.1160 - val_accuracy: 0.9711\n",
            "Epoch 8/10\n",
            "1500/1500 [==============================] - 9s 6ms/step - loss: 0.0244 - accuracy: 0.9923 - val_loss: 0.1036 - val_accuracy: 0.9749\n",
            "Epoch 9/10\n",
            "1500/1500 [==============================] - 6s 4ms/step - loss: 0.0228 - accuracy: 0.9924 - val_loss: 0.1084 - val_accuracy: 0.9732\n",
            "Epoch 10/10\n",
            "1500/1500 [==============================] - 8s 5ms/step - loss: 0.0196 - accuracy: 0.9935 - val_loss: 0.1293 - val_accuracy: 0.9713\n"
          ]
        },
        {
          "output_type": "execute_result",
          "data": {
            "text/plain": [
              "<keras.src.callbacks.History at 0x7b66f6b93760>"
            ]
          },
          "metadata": {},
          "execution_count": 7
        }
      ]
    },
    {
      "cell_type": "code",
      "source": [
        "# Evaluate the model on test data\n",
        "test_loss, test_accuracy = model.evaluate(x_test, y_test)\n",
        "print(f\"Test accuracy: {test_accuracy}\")"
      ],
      "metadata": {
        "colab": {
          "base_uri": "https://localhost:8080/"
        },
        "id": "_0KG53PNhMh_",
        "outputId": "4277c8cf-653a-4d73-c9f9-ded534aa1731"
      },
      "execution_count": 8,
      "outputs": [
        {
          "output_type": "stream",
          "name": "stdout",
          "text": [
            "313/313 [==============================] - 1s 2ms/step - loss: 0.1145 - accuracy: 0.9737\n",
            "Test accuracy: 0.9736999869346619\n"
          ]
        }
      ]
    }
  ]
}